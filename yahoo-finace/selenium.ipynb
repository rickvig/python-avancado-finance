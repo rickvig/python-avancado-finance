{
 "cells": [
  {
   "cell_type": "code",
   "execution_count": 1,
   "metadata": {},
   "outputs": [
    {
     "name": "stderr",
     "output_type": "stream",
     "text": [
      "<ipython-input-1-5f645191242d>:10: DeprecationWarning: executable_path has been deprecated, please pass in a Service object\n",
      "  driver = webdriver.Firefox(executable_path='/home/henrique/apps/geckodriver-v0.30.0-linux64/geckodriver')\n"
     ]
    },
    {
     "data": {
      "text/plain": [
       "'Welcome to Python.org'"
      ]
     },
     "execution_count": 1,
     "metadata": {},
     "output_type": "execute_result"
    }
   ],
   "source": [
    "from selenium import webdriver\n",
    "from selenium.webdriver.common.keys import Keys\n",
    "\n",
    "''' \n",
    "    antes baixar o geckodriver https://github.com/mozilla/geckodriver/releases/download/v0.30.0/geckodriver-v0.30.0-linux64.tar.gz\n",
    "    e adicionar n path\n",
    "    \n",
    "'''\n",
    "\n",
    "driver = webdriver.Firefox(executable_path='/home/henrique/apps/geckodriver-v0.30.0-linux64/geckodriver')\n",
    "driver.get(\"http://www.python.org\")\n",
    "\n",
    "driver.title\n",
    "\n",
    "\n",
    "\n"
   ]
  }
 ],
 "metadata": {
  "interpreter": {
   "hash": "0385ba11f7a349379fe37e11610c2be6fd49b16a3aeb7d4de0c2f7510f962c3b"
  },
  "kernelspec": {
   "display_name": "Python 3.8.2 64-bit ('base': conda)",
   "language": "python",
   "name": "python3"
  },
  "language_info": {
   "codemirror_mode": {
    "name": "ipython",
    "version": 3
   },
   "file_extension": ".py",
   "mimetype": "text/x-python",
   "name": "python",
   "nbconvert_exporter": "python",
   "pygments_lexer": "ipython3",
   "version": "3.8.2"
  },
  "orig_nbformat": 4
 },
 "nbformat": 4,
 "nbformat_minor": 2
}
