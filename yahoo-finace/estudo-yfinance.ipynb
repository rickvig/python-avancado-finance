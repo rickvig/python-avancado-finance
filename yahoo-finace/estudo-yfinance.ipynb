{
 "cells": [
  {
   "cell_type": "code",
   "execution_count": 2,
   "metadata": {},
   "outputs": [],
   "source": [
    "import yfinance as yf\n",
    "\n",
    "ibov = yf.Ticker(\"^BVSP\")"
   ]
  },
  {
   "cell_type": "code",
   "execution_count": 4,
   "metadata": {},
   "outputs": [
    {
     "data": {
      "text/plain": [
       "{'exchange': 'SAO',\n",
       " 'shortName': 'IBOVESPA',\n",
       " 'exchangeTimezoneName': 'America/Sao_Paulo',\n",
       " 'exchangeTimezoneShortName': 'BRST',\n",
       " 'isEsgPopulated': False,\n",
       " 'gmtOffSetMilliseconds': '-7200000',\n",
       " 'quoteType': 'INDEX',\n",
       " 'symbol': '^BVSP',\n",
       " 'messageBoardId': 'finmb_INDEXBVSP',\n",
       " 'market': 'br_market',\n",
       " 'previousClose': 108096,\n",
       " 'regularMarketOpen': 0,\n",
       " 'twoHundredDayAverage': 117249.875,\n",
       " 'trailingAnnualDividendYield': None,\n",
       " 'payoutRatio': None,\n",
       " 'volume24Hr': None,\n",
       " 'regularMarketDayHigh': 0,\n",
       " 'navPrice': None,\n",
       " 'averageDailyVolume10Day': 12659620,\n",
       " 'totalAssets': None,\n",
       " 'regularMarketPreviousClose': 108096,\n",
       " 'fiftyDayAverage': 107312.66,\n",
       " 'trailingAnnualDividendRate': None,\n",
       " 'open': 0,\n",
       " 'toCurrency': None,\n",
       " 'averageVolume10days': 12659620,\n",
       " 'expireDate': None,\n",
       " 'yield': None,\n",
       " 'algorithm': None,\n",
       " 'dividendRate': None,\n",
       " 'exDividendDate': None,\n",
       " 'beta': None,\n",
       " 'circulatingSupply': None,\n",
       " 'startDate': None,\n",
       " 'regularMarketDayLow': 0,\n",
       " 'priceHint': 2,\n",
       " 'currency': 'BRL',\n",
       " 'regularMarketVolume': 0,\n",
       " 'lastMarket': None,\n",
       " 'maxSupply': None,\n",
       " 'openInterest': None,\n",
       " 'marketCap': None,\n",
       " 'volumeAllCurrencies': None,\n",
       " 'strikePrice': None,\n",
       " 'averageVolume': 11944771,\n",
       " 'priceToSalesTrailing12Months': None,\n",
       " 'dayLow': 0,\n",
       " 'ask': 0,\n",
       " 'ytdReturn': None,\n",
       " 'askSize': 0,\n",
       " 'volume': 0,\n",
       " 'fiftyTwoWeekHigh': 131190,\n",
       " 'forwardPE': None,\n",
       " 'maxAge': 1,\n",
       " 'fromCurrency': None,\n",
       " 'fiveYearAvgDividendYield': None,\n",
       " 'fiftyTwoWeekLow': 0,\n",
       " 'bid': 0,\n",
       " 'tradeable': False,\n",
       " 'dividendYield': None,\n",
       " 'bidSize': 0,\n",
       " 'dayHigh': 0,\n",
       " 'regularMarketPrice': 106291.24,\n",
       " 'preMarketPrice': None,\n",
       " 'logo_url': ''}"
      ]
     },
     "execution_count": 4,
     "metadata": {},
     "output_type": "execute_result"
    }
   ],
   "source": [
    "ibov.info"
   ]
  }
 ],
 "metadata": {
  "interpreter": {
   "hash": "0385ba11f7a349379fe37e11610c2be6fd49b16a3aeb7d4de0c2f7510f962c3b"
  },
  "kernelspec": {
   "display_name": "Python 3.8.2 64-bit ('base': conda)",
   "language": "python",
   "name": "python3"
  },
  "language_info": {
   "codemirror_mode": {
    "name": "ipython",
    "version": 3
   },
   "file_extension": ".py",
   "mimetype": "text/x-python",
   "name": "python",
   "nbconvert_exporter": "python",
   "pygments_lexer": "ipython3",
   "version": "3.8.2"
  },
  "orig_nbformat": 4
 },
 "nbformat": 4,
 "nbformat_minor": 2
}
